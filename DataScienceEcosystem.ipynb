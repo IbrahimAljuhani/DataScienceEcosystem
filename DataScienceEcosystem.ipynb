{
 "cells": [
  {
   "cell_type": "markdown",
   "id": "5ed57834-de68-40ea-9343-ff3bd83a6980",
   "metadata": {},
   "source": [
    "# Data Science Tools and Ecosystem"
   ]
  },
  {
   "cell_type": "markdown",
   "id": "64cbc7d5-bd70-4adf-8eae-1a8b04d975f5",
   "metadata": {},
   "source": [
    "In this Notebook, Data Science Tools and Ecosystem are summarized."
   ]
  },
  {
   "cell_type": "markdown",
   "id": "cb033902-3a0b-4e88-a130-85a28b36d72c",
   "metadata": {},
   "source": [
    "**Objectives:**\n",
    "* List popular Languages for Data Science\n",
    "* List Some of the commonly used libraries, used by Data Scientists \n",
    "* List Data Science Tools\n",
    "* Evaluating Arithmetic expressions in Python"
   ]
  },
  {
   "cell_type": "markdown",
   "id": "7799807e-a640-4341-9570-a90385a3f4b7",
   "metadata": {},
   "source": [
    "Some of the popular languages that Data Scientists uses are:\n",
    "1. python\n",
    "2. R Language\n",
    "3. SQL\n",
    "4. Java\n",
    "5. Scala\n",
    "6. C++\n",
    "7. Julia"
   ]
  },
  {
   "cell_type": "markdown",
   "id": "decf27e9-8a9b-46b6-b4a3-7fad7aa5d9f4",
   "metadata": {},
   "source": [
    "Some of the commonly used libraries, used by Data Scientists include:\n",
    "1. Pandas\n",
    "2. NumPy\n",
    "3. Scikit-Learn\n",
    "4. TensorFlow\n",
    "5. MatPlotLib\n",
    "6. Seaborn\n",
    "7. ggplot"
   ]
  },
  {
   "cell_type": "markdown",
   "id": "53cf4230-3d90-4937-9f1c-b58cfc33fd94",
   "metadata": {},
   "source": [
    "| Data Science Tools | \n",
    "|--------------------|\n",
    "| R studio | \n",
    "| Apache Spark | \n",
    "| TensorFlow |\n"
   ]
  },
  {
   "cell_type": "markdown",
   "id": "8abf93dc-d81c-46d6-ba06-e9bcab136fff",
   "metadata": {},
   "source": [
    "### Below are a Few examples of evaluating arithmetic expressions in python.\n"
   ]
  },
  {
   "cell_type": "code",
   "execution_count": 1,
   "id": "3b77a265-4c05-4d58-96cc-b5ee642f3906",
   "metadata": {
    "tags": []
   },
   "outputs": [
    {
     "data": {
      "text/plain": [
       "17"
      ]
     },
     "execution_count": 1,
     "metadata": {},
     "output_type": "execute_result"
    }
   ],
   "source": [
    "# This is a simple arithmetic expression to multiply then add integers.\n",
    "\n",
    "(3*4)+5"
   ]
  },
  {
   "cell_type": "code",
   "execution_count": 2,
   "id": "5ef33d90-2e95-4465-bbda-6953c035905a",
   "metadata": {
    "tags": []
   },
   "outputs": [
    {
     "name": "stdout",
     "output_type": "stream",
     "text": [
      "3\n"
     ]
    }
   ],
   "source": [
    "# This will convert 200 minutes into hours by dividing by 60.\n",
    "\n",
    "print(200 // 60)"
   ]
  },
  {
   "cell_type": "markdown",
   "id": "efa74824-05b7-4fbc-bc2a-5b7997a61021",
   "metadata": {
    "tags": []
   },
   "source": [
    "## Author\n",
    "Ibrahim Aljuhani"
   ]
  }
 ],
 "metadata": {
  "kernelspec": {
   "display_name": "Python 3 (ipykernel)",
   "language": "python",
   "name": "python3"
  },
  "language_info": {
   "codemirror_mode": {
    "name": "ipython",
    "version": 3
   },
   "file_extension": ".py",
   "mimetype": "text/x-python",
   "name": "python",
   "nbconvert_exporter": "python",
   "pygments_lexer": "ipython3",
   "version": "3.10.12"
  }
 },
 "nbformat": 4,
 "nbformat_minor": 5
}
